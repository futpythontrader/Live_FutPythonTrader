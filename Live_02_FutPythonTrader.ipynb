{
  "nbformat": 4,
  "nbformat_minor": 0,
  "metadata": {
    "colab": {
      "provenance": []
    },
    "kernelspec": {
      "name": "python3",
      "display_name": "Python 3"
    },
    "language_info": {
      "name": "python"
    }
  },
  "cells": [
    {
      "cell_type": "markdown",
      "source": [
        "### Importando as Bibliotecas e Funções"
      ],
      "metadata": {
        "id": "ndilxmjevKeD"
      }
    },
    {
      "cell_type": "code",
      "source": [
        "import pandas as pd\n",
        "import numpy as np\n",
        "import matplotlib.pyplot as plt\n",
        "\n",
        "import warnings\n",
        "warnings.filterwarnings('ignore')\n",
        "\n",
        "def drop_reset_index(df):\n",
        "    df = df.dropna()\n",
        "    df = df.reset_index(drop=True)\n",
        "    df.index += 1\n",
        "    return df\n",
        "\n",
        "pd.set_option('display.max_columns', None)"
      ],
      "metadata": {
        "id": "Yd-avZoxvN2U"
      },
      "execution_count": null,
      "outputs": []
    },
    {
      "cell_type": "markdown",
      "source": [
        "### Importando a Base de Dados"
      ],
      "metadata": {
        "id": "wCm_YBSpvR6w"
      }
    },
    {
      "cell_type": "code",
      "source": [
        "base = pd.read_csv(\"https://github.com/futpythontrader/Live_FutPythonTrader/raw/refs/heads/main/Base_FutPythonTrader.csv\")\n",
        "df = base[['League','Season','Date','Home','Away',\n",
        "           'Odd_H_FT','Odd_D_FT','Odd_A_FT',\n",
        "           'Odd_1X','Odd_12','Odd_X2',\n",
        "           'Goals_H_FT','Goals_A_FT']].copy()\n",
        "df = drop_reset_index(df)\n",
        "display(df)"
      ],
      "metadata": {
        "id": "PEKzmr4mvT7p"
      },
      "execution_count": null,
      "outputs": []
    },
    {
      "cell_type": "code",
      "source": [
        "df.describe()"
      ],
      "metadata": {
        "id": "Ajhxzp8yvxee"
      },
      "execution_count": null,
      "outputs": []
    },
    {
      "cell_type": "code",
      "source": [
        "df.info()"
      ],
      "metadata": {
        "id": "EpvtM5KDwi8H"
      },
      "execution_count": null,
      "outputs": []
    },
    {
      "cell_type": "code",
      "source": [
        "df['League'].unique()"
      ],
      "metadata": {
        "id": "x4DdlHc_xT-b"
      },
      "execution_count": null,
      "outputs": []
    },
    {
      "cell_type": "markdown",
      "source": [
        "### Criando Variáveis Secundárias"
      ],
      "metadata": {
        "id": "SXlm_nqEw-z_"
      }
    },
    {
      "cell_type": "code",
      "source": [
        "# Probabilidades\n",
        "df['p_H'] = 1/df['Odd_H_FT']\n",
        "df['p_D'] = 1/df['Odd_D_FT']\n",
        "df['p_A'] = 1/df['Odd_A_FT']\n",
        "\n",
        "# Coeficiente de Variação das Probabilidades\n",
        "desvio_padrao = df[['p_H', 'p_D', 'p_A']].std(axis=1)\n",
        "media = df[['p_H', 'p_D', 'p_A']].mean(axis=1)\n",
        "CV_Prob = desvio_padrao / media\n",
        "df['CV_Prob'] = CV_Prob\n",
        "\n",
        "n_per = 5\n",
        "\n",
        "# Média dos Pontos (PPG)\n",
        "df['Ptos_H'] = np.where(df['Goals_H_FT'] > df['Goals_A_FT'], 3,\n",
        "               np.where(df['Goals_H_FT'] == df['Goals_A_FT'], 1, 0))\n",
        "df['Ptos_A'] = np.where(df['Goals_H_FT'] < df['Goals_A_FT'], 3,\n",
        "               np.where(df['Goals_H_FT'] == df['Goals_A_FT'], 1, 0))\n",
        "df['Media_Ptos_H'] = df.groupby('Home')['Ptos_H'].rolling(window=n_per, min_periods=n_per).mean().reset_index(0, drop=True)\n",
        "df['Media_Ptos_H'] = df.groupby('Home')['Media_Ptos_H'].shift(1)\n",
        "df['Media_Ptos_A'] = df.groupby('Away')['Ptos_A'].rolling(window=n_per, min_periods=n_per).mean().reset_index(0, drop=True)\n",
        "df['Media_Ptos_A'] = df.groupby('Away')['Media_Ptos_A'].shift(1)\n",
        "df['DesvPad_Ptos_H'] = df.groupby('Home')['Ptos_H'].rolling(window=n_per, min_periods=n_per).std().reset_index(0, drop=True)\n",
        "df['DesvPad_Ptos_H'] = df.groupby('Home')['DesvPad_Ptos_H'].shift(1)\n",
        "df['DesvPad_Ptos_A'] = df.groupby('Away')['Ptos_A'].rolling(window=n_per, min_periods=n_per).std().reset_index(0, drop=True)\n",
        "df['DesvPad_Ptos_A'] = df.groupby('Away')['DesvPad_Ptos_A'].shift(1)\n",
        "df['CV_Ptos_H'] = df['DesvPad_Ptos_H'] / df['Media_Ptos_H']\n",
        "df['CV_Ptos_A'] = df['DesvPad_Ptos_A'] / df['Media_Ptos_A']\n",
        "\n",
        "# Média Gols Marcados\n",
        "df['Media_GM_H'] = df.groupby('Home')['Goals_H_FT'].rolling(window=n_per, min_periods=n_per).mean().reset_index(0,drop=True)\n",
        "df['Media_GM_A'] = df.groupby('Away')['Goals_A_FT'].rolling(window=n_per, min_periods=n_per).mean().reset_index(0,drop=True)\n",
        "df['Media_GM_H'] = df.groupby('Home')['Media_GM_H'].shift(1)\n",
        "df['Media_GM_A'] = df.groupby('Away')['Media_GM_A'].shift(1)\n",
        "df['DesvPad_GM_H'] = df.groupby('Home')['Goals_H_FT'].rolling(window=n_per, min_periods=n_per).std().reset_index(0,drop=True)\n",
        "df['DesvPad_GM_A'] = df.groupby('Away')['Goals_A_FT'].rolling(window=n_per, min_periods=n_per).std().reset_index(0,drop=True)\n",
        "df['DesvPad_GM_H'] = df.groupby('Home')['DesvPad_GM_H'].shift(1)\n",
        "df['DesvPad_GM_A'] = df.groupby('Away')['DesvPad_GM_A'].shift(1)\n",
        "df['CV_GM_H'] = df['DesvPad_GM_H'] / df['Media_GM_H']\n",
        "df['CV_GM_A'] = df['DesvPad_GM_A'] / df['Media_GM_A']\n",
        "\n",
        "# Média de Gols Sofridos\n",
        "df['Media_GS_H'] = df.groupby('Home')['Goals_A_FT'].rolling(window=n_per, min_periods=n_per).mean().reset_index(0,drop=True)\n",
        "df['Media_GS_A'] = df.groupby('Away')['Goals_H_FT'].rolling(window=n_per, min_periods=n_per).mean().reset_index(0,drop=True)\n",
        "df['Media_GS_H'] = df.groupby('Home')['Media_GS_H'].shift(1)\n",
        "df['Media_GS_A'] = df.groupby('Away')['Media_GS_A'].shift(1)\n",
        "df['DesvPad_GS_H'] = df.groupby('Home')['Goals_A_FT'].rolling(window=n_per, min_periods=n_per).std().reset_index(0,drop=True)\n",
        "df['DesvPad_GS_A'] = df.groupby('Away')['Goals_H_FT'].rolling(window=n_per, min_periods=n_per).std().reset_index(0,drop=True)\n",
        "df['DesvPad_GS_H'] = df.groupby('Home')['DesvPad_GS_H'].shift(1)\n",
        "df['DesvPad_GS_A'] = df.groupby('Away')['DesvPad_GS_A'].shift(1)\n",
        "df['CV_GS_H'] = df['DesvPad_GS_H'] / df['Media_GS_H']\n",
        "df['CV_GS_A'] = df['DesvPad_GS_A'] / df['Media_GS_A']\n",
        "\n",
        "# Média de Saldo de Gols\n",
        "df['SG_H'] = df['Goals_H_FT'] - df['Goals_A_FT']\n",
        "df['SG_A'] = df['Goals_A_FT'] - df['Goals_H_FT']\n",
        "df['Media_SG_H'] = df.groupby('Home')['SG_H'].rolling(window=n_per, min_periods=n_per).mean().reset_index(0,drop=True)\n",
        "df['Media_SG_A'] = df.groupby('Away')['SG_A'].rolling(window=n_per, min_periods=n_per).mean().reset_index(0,drop=True)\n",
        "df['Media_SG_H'] = df.groupby('Home')['Media_SG_H'].shift(1)\n",
        "df['Media_SG_A'] = df.groupby('Away')['Media_SG_A'].shift(1)\n",
        "df['DesvPad_SG_H'] = df.groupby('Home')['SG_H'].rolling(window=n_per, min_periods=n_per).std().reset_index(0,drop=True)\n",
        "df['DesvPad_SG_A'] = df.groupby('Away')['SG_A'].rolling(window=n_per, min_periods=n_per).std().reset_index(0,drop=True)\n",
        "df['DesvPad_SG_H'] = df.groupby('Home')['DesvPad_SG_H'].shift(1)\n",
        "df['DesvPad_SG_A'] = df.groupby('Away')['DesvPad_SG_A'].shift(1)\n",
        "df['CV_SG_H'] = df['DesvPad_SG_H'] / df['Media_SG_H']\n",
        "df['CV_SG_A'] = df['DesvPad_SG_A'] / df['Media_SG_A']\n",
        "\n",
        "# Média de Saldo de Gols Ponderado pela Probabilidade do Time\n",
        "df['SG_H_01'] = (df['Goals_H_FT'] - df['Goals_A_FT']) / df['p_H']\n",
        "df['SG_A_01'] = (df['Goals_A_FT'] - df['Goals_H_FT']) / df['p_A']\n",
        "df['Media_SG_H_01'] = df.groupby('Home')['SG_H_01'].rolling(window=n_per, min_periods=n_per).mean().reset_index(0,drop=True)\n",
        "df['Media_SG_A_01'] = df.groupby('Away')['SG_A_01'].rolling(window=n_per, min_periods=n_per).mean().reset_index(0,drop=True)\n",
        "df['Media_SG_H_01'] = df.groupby('Home')['Media_SG_H_01'].shift(1)\n",
        "df['Media_SG_A_01'] = df.groupby('Away')['Media_SG_A_01'].shift(1)\n",
        "df['DesvPad_SG_H_01'] = df.groupby('Home')['SG_H_01'].rolling(window=n_per, min_periods=n_per).std().reset_index(0,drop=True)\n",
        "df['DesvPad_SG_A_01'] = df.groupby('Away')['SG_A_01'].rolling(window=n_per, min_periods=n_per).std().reset_index(0,drop=True)\n",
        "df['DesvPad_SG_H_01'] = df.groupby('Home')['DesvPad_SG_H_01'].shift(1)\n",
        "df['DesvPad_SG_A_01'] = df.groupby('Away')['DesvPad_SG_A_01'].shift(1)\n",
        "df['CV_SG_H_01'] = df['DesvPad_SG_H_01'] / df['Media_SG_H_01']\n",
        "df['CV_SG_A_01'] = df['DesvPad_SG_A_01'] / df['Media_SG_A_01']\n",
        "\n",
        "# Média de Saldo de Gols Ponderado pela Probabilidade do Adversário\n",
        "df['SG_H_02'] = (df['Goals_H_FT'] - df['Goals_A_FT']) / df['p_A']\n",
        "df['SG_A_02'] = (df['Goals_A_FT'] - df['Goals_H_FT']) / df['p_H']\n",
        "df['Media_SG_H_02'] = df.groupby('Home')['SG_H_02'].rolling(window=n_per, min_periods=n_per).mean().reset_index(0,drop=True)\n",
        "df['Media_SG_A_02'] = df.groupby('Away')['SG_A_02'].rolling(window=n_per, min_periods=n_per).mean().reset_index(0,drop=True)\n",
        "df['Media_SG_H_02'] = df.groupby('Home')['Media_SG_H_02'].shift(1)\n",
        "df['Media_SG_A_02'] = df.groupby('Away')['Media_SG_A_02'].shift(1)\n",
        "df['DesvPad_SG_H_02'] = df.groupby('Home')['SG_H_02'].rolling(window=n_per, min_periods=n_per).std().reset_index(0,drop=True)\n",
        "df['DesvPad_SG_A_02'] = df.groupby('Away')['SG_A_02'].rolling(window=n_per, min_periods=n_per).std().reset_index(0,drop=True)\n",
        "df['DesvPad_SG_H_02'] = df.groupby('Home')['DesvPad_SG_H_02'].shift(1)\n",
        "df['DesvPad_SG_A_02'] = df.groupby('Away')['DesvPad_SG_A_02'].shift(1)\n",
        "df['CV_SG_H_02'] = df['DesvPad_SG_H_02'] / df['Media_SG_H_02']\n",
        "df['CV_SG_A_02'] = df['DesvPad_SG_A_02'] / df['Media_SG_A_02']\n",
        "\n",
        "# Média do Valor do Gol\n",
        "df['VG_H'] = df['Goals_H_FT'] * df['p_A']\n",
        "df['VG_A'] = df['Goals_A_FT'] * df['p_H']\n",
        "df['Media_VG_H'] = df.groupby('Home')['VG_H'].rolling(window=n_per, min_periods=n_per).mean().reset_index(0,drop=True)\n",
        "df['Media_VG_A'] = df.groupby('Away')['VG_A'].rolling(window=n_per, min_periods=n_per).mean().reset_index(0,drop=True)\n",
        "df['Media_VG_H'] = df.groupby('Home')['Media_VG_H'].shift(1)\n",
        "df['Media_VG_A'] = df.groupby('Away')['Media_VG_A'].shift(1)\n",
        "df['DesvPad_VG_H'] = df.groupby('Home')['VG_H'].rolling(window=n_per, min_periods=n_per).std().reset_index(0,drop=True)\n",
        "df['DesvPad_VG_A'] = df.groupby('Away')['VG_A'].rolling(window=n_per, min_periods=n_per).std().reset_index(0,drop=True)\n",
        "df['DesvPad_VG_H'] = df.groupby('Home')['DesvPad_VG_H'].shift(1)\n",
        "df['DesvPad_VG_A'] = df.groupby('Away')['DesvPad_VG_A'].shift(1)\n",
        "df['CV_VG_H'] = df['DesvPad_VG_H'] / df['Media_VG_H']\n",
        "df['CV_VG_A'] = df['DesvPad_VG_A'] / df['Media_VG_A']\n",
        "\n",
        "# Custo do Gol Original\n",
        "df['CG_H_00'] = df['p_H'] / df['Goals_H_FT']\n",
        "df['CG_A_00'] = df['p_A'] / df['Goals_A_FT']\n",
        "df.replace(np.inf, 1, inplace=True)\n",
        "df['Media_CG_H_00'] = df.groupby('Home')['CG_H_00'].rolling(window=n_per, min_periods=n_per).mean().reset_index(0,drop=True)\n",
        "df['Media_CG_A_00'] = df.groupby('Away')['CG_A_00'].rolling(window=n_per, min_periods=n_per).mean().reset_index(0,drop=True)\n",
        "df['Media_CG_H_00'] = df.groupby('Home')['Media_CG_H_00'].shift(1)\n",
        "df['Media_CG_A_00'] = df.groupby('Away')['Media_CG_A_00'].shift(1)\n",
        "df['DesvPad_CG_H_00'] = df.groupby('Home')['CG_H_00'].rolling(window=n_per, min_periods=n_per).std().reset_index(0,drop=True)\n",
        "df['DesvPad_CG_A_00'] = df.groupby('Away')['CG_A_00'].rolling(window=n_per, min_periods=n_per).std().reset_index(0,drop=True)\n",
        "df['DesvPad_CG_H_00'] = df.groupby('Home')['DesvPad_CG_H_00'].shift(1)\n",
        "df['DesvPad_CG_A_00'] = df.groupby('Away')['DesvPad_CG_A_00'].shift(1)\n",
        "df['CV_CG_H_00'] = df['DesvPad_CG_H_00'] / df['Media_CG_H_00']\n",
        "df['CV_CG_A_00'] = df['DesvPad_CG_A_00'] / df['Media_CG_A_00']\n",
        "\n",
        "# Custo do Gol 1.0\n",
        "df['CG_H_01'] = df['Goals_H_FT'] / df['p_H']\n",
        "df['CG_A_01'] = df['Goals_A_FT'] / df['p_A']\n",
        "df['Media_CG_H_01'] = df.groupby('Home')['CG_H_01'].rolling(window=n_per, min_periods=n_per).mean().reset_index(0,drop=True)\n",
        "df['Media_CG_A_01'] = df.groupby('Away')['CG_A_01'].rolling(window=n_per, min_periods=n_per).mean().reset_index(0,drop=True)\n",
        "df['Media_CG_H_01'] = df.groupby('Home')['Media_CG_H_01'].shift(1)\n",
        "df['Media_CG_A_01'] = df.groupby('Away')['Media_CG_A_01'].shift(1)\n",
        "df['DesvPad_CG_H_01'] = df.groupby('Home')['CG_H_01'].rolling(window=n_per, min_periods=n_per).std().reset_index(0,drop=True)\n",
        "df['DesvPad_CG_A_01'] = df.groupby('Away')['CG_A_01'].rolling(window=n_per, min_periods=n_per).std().reset_index(0,drop=True)\n",
        "df['DesvPad_CG_H_01'] = df.groupby('Home')['DesvPad_CG_H_01'].shift(1)\n",
        "df['DesvPad_CG_A_01'] = df.groupby('Away')['DesvPad_CG_A_01'].shift(1)\n",
        "df['CV_CG_H_01'] = df['DesvPad_CG_H_01'] / df['Media_CG_H_01']\n",
        "df['CV_CG_A_01'] = df['DesvPad_CG_A_01'] / df['Media_CG_A_01']\n",
        "\n",
        "# Custo do Gol 2.0\n",
        "df['CG_H_02'] = (df['Goals_H_FT'] / 2) + (df['p_H'] / 2)\n",
        "df['CG_A_02'] = (df['Goals_A_FT'] / 2) + (df['p_A'] / 2)\n",
        "df['Media_CG_H_02'] = df.groupby('Home')['CG_H_02'].rolling(window=n_per, min_periods=n_per).mean().reset_index(0,drop=True)\n",
        "df['Media_CG_A_02'] = df.groupby('Away')['CG_A_02'].rolling(window=n_per, min_periods=n_per).mean().reset_index(0,drop=True)\n",
        "df['Media_CG_H_02'] = df.groupby('Home')['Media_CG_H_02'].shift(1)\n",
        "df['Media_CG_A_02'] = df.groupby('Away')['Media_CG_A_02'].shift(1)\n",
        "df['DesvPad_CG_H_02'] = df.groupby('Home')['CG_H_02'].rolling(window=n_per, min_periods=n_per).std().reset_index(0,drop=True)\n",
        "df['DesvPad_CG_A_02'] = df.groupby('Away')['CG_A_02'].rolling(window=n_per, min_periods=n_per).std().reset_index(0,drop=True)\n",
        "df['DesvPad_CG_H_02'] = df.groupby('Home')['DesvPad_CG_H_02'].shift(1)\n",
        "df['DesvPad_CG_A_02'] = df.groupby('Away')['DesvPad_CG_A_02'].shift(1)\n",
        "df['CV_CG_H_02'] = df['DesvPad_CG_H_02'] / df['Media_CG_H_02']\n",
        "df['CV_CG_A_02'] = df['DesvPad_CG_A_02'] / df['Media_CG_A_02']\n",
        "\n",
        "colunas_deletar = ['Ptos_H','Ptos_A','DesvPad_Ptos_H','DesvPad_Ptos_A',\n",
        "                   'DesvPad_GM_H','DesvPad_GM_A',\n",
        "                   'DesvPad_GS_H','DesvPad_GS_A',\n",
        "                   'SG_H','SG_A','DesvPad_SG_H','DesvPad_SG_A',\n",
        "                   'SG_H_01','SG_A_01','DesvPad_SG_H_01','DesvPad_SG_A_01',\n",
        "                   'SG_H_02','SG_A_02','DesvPad_SG_H_02','DesvPad_SG_A_02',\n",
        "                   'VG_H','VG_A','DesvPad_VG_H','DesvPad_VG_A',\n",
        "                   'CG_H_00','CG_A_00','DesvPad_CG_H_00','DesvPad_CG_A_00',\n",
        "                   'CG_H_01','CG_A_01','DesvPad_CG_H_01','DesvPad_CG_A_01',\n",
        "                   'CG_H_02','CG_A_02','DesvPad_CG_H_02','DesvPad_CG_A_02']\n",
        "\n",
        "df = df.drop(colunas_deletar, axis=1)\n",
        "df = drop_reset_index(df)\n",
        "\n",
        "display(df)"
      ],
      "metadata": {
        "id": "cu7QTwUfxBdK"
      },
      "execution_count": null,
      "outputs": []
    },
    {
      "cell_type": "code",
      "source": [
        "df = df[df['Season'].isin(['2021/2022', '2022/2023', '2023/2024','2024/2025']) == True]\n",
        "df = drop_reset_index(df)\n",
        "display(df)"
      ],
      "metadata": {
        "id": "vNKqcoaT2kTI"
      },
      "execution_count": null,
      "outputs": []
    },
    {
      "cell_type": "markdown",
      "source": [
        "### Método de Lay Away"
      ],
      "metadata": {
        "id": "GUtYdmAj3NjB"
      }
    },
    {
      "cell_type": "code",
      "source": [
        "flt = ((df.CV_VG_H >= 1.6678) & (df.CV_VG_H <= 1.7848)) | ((df.CV_CG_H_01 >= 1.7026) & (df.CV_CG_H_01 <= 1.8094))\n",
        "df_filtrado = df[flt].copy()\n",
        "df_filtrado = drop_reset_index(df_filtrado)\n",
        "display(df_filtrado)"
      ],
      "metadata": {
        "id": "Ja8RW9TG3M1r"
      },
      "execution_count": null,
      "outputs": []
    },
    {
      "cell_type": "code",
      "source": [
        "df_filtrado['Profit'] = np.where((df_filtrado['Goals_H_FT'] >= df_filtrado['Goals_A_FT']),\n",
        "                                 df_filtrado['Odd_1X']-1, -1)\n",
        "display(df_filtrado)"
      ],
      "metadata": {
        "id": "PeKFVxXM4KEf"
      },
      "execution_count": null,
      "outputs": []
    },
    {
      "cell_type": "code",
      "source": [
        "df_filtrado['Profit_Acu'] = df_filtrado['Profit'].cumsum()\n",
        "df_filtrado['Profit_Acu'].plot()"
      ],
      "metadata": {
        "id": "s0ZLTuu948HH"
      },
      "execution_count": null,
      "outputs": []
    }
  ]
}